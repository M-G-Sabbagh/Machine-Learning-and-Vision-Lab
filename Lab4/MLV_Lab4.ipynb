{
 "cells": [
  {
   "cell_type": "code",
   "execution_count": 35,
   "metadata": {},
   "outputs": [],
   "source": [
    "from skimage.io import imread\n",
    "from skimage.io import imshow\n",
    "import os\n",
    "import numpy as np\n",
    "import matplotlib.pyplot as plt\n",
    "from sklearn.decomposition import PCA\n",
    "from sklearn.preprocessing import StandardScaler\n",
    "from scipy.sparse import coo_matrix\n",
    "from sklearn.utils import shuffle\n",
    "from sklearn.model_selection import KFold\n",
    "from sklearn.svm import LinearSVC\n",
    "from sklearn.metrics import confusion_matrix\n",
    "from sklearn.metrics import classification_report\n",
    "from sklearn.metrics import f1_score\n",
    "import seaborn as sn\n",
    "from sklearn import svm\n",
    "from sklearn.model_selection import GridSearchCV"
   ]
  },
  {
   "cell_type": "code",
   "execution_count": 36,
   "metadata": {},
   "outputs": [],
   "source": [
    "happy_images = []\n",
    "for file in os.listdir('happy/'):\n",
    "    im = imread(os.path.join('happy/', file),True)\n",
    "    happy_images.append(np.reshape(im,im.shape[0]*im.shape[1]))\n",
    "\n",
    "surprise_images = []\n",
    "for file in os.listdir('surprise/'):\n",
    "    im = imread(os.path.join('surprise/', file),True)\n",
    "    surprise_images.append(np.reshape(im,im.shape[0]*im.shape[1]))\n",
    "        \n",
    "neutral_images = []\n",
    "for file in os.listdir('neutral/'):\n",
    "    im = imread(os.path.join('neutral/', file),True)\n",
    "    neutral_images.append(np.reshape(im,im.shape[0]*im.shape[1]))\n",
    "        \n",
    "disgust_images = []\n",
    "for file in os.listdir('disgust/'):\n",
    "    im = imread(os.path.join('disgust/', file),True)\n",
    "    disgust_images.append(np.reshape(im,im.shape[0]*im.shape[1]))\n",
    "        \n",
    "np.random.shuffle(neutral_images)\n",
    "neutral_train = neutral_images[0:120]\n",
    "neutral_test = neutral_images[120:]\n",
    "\n",
    "np.random.shuffle(surprise_images)\n",
    "surprise_train = surprise_images[0:60]\n",
    "surprise_test = surprise_images[60:]\n",
    "\n",
    "np.random.shuffle(happy_images)\n",
    "happy_train = happy_images[0:60]\n",
    "happy_test = happy_images[60:]\n",
    "\n",
    "np.random.shuffle(disgust_images)\n",
    "disgust_train = disgust_images[0:30]\n",
    "disgust_test = disgust_images[30:]\n",
    "\n",
    "train = neutral_train + surprise_train + happy_train + disgust_train\n",
    "test = neutral_test + surprise_test + happy_test + disgust_test\n",
    "X_train = np.array(train)\n",
    "X_test = np.array(test)\n",
    "\n",
    "y_train = np.concatenate((np.zeros(120),np.ones(60),2*np.ones(60),3*np.ones(30)))\n",
    "y_test = np.concatenate((np.zeros(70),np.ones(28),2*np.ones(25),3*np.ones(17)))"
   ]
  },
  {
   "cell_type": "code",
   "execution_count": 37,
   "metadata": {},
   "outputs": [
    {
     "name": "stdout",
     "output_type": "stream",
     "text": [
      "(270, 180000)\n",
      "(140, 180000)\n"
     ]
    }
   ],
   "source": [
    "scaler = StandardScaler()\n",
    "scaler.fit(X_train)\n",
    "X_train_scaler = scaler.transform(X_train)\n",
    "X_test_scaler = scaler.transform(X_test)\n",
    "print(X_train_scaler.shape)\n",
    "print(X_test_scaler.shape)"
   ]
  },
  {
   "cell_type": "code",
   "execution_count": 38,
   "metadata": {},
   "outputs": [
    {
     "name": "stdout",
     "output_type": "stream",
     "text": [
      "(270, 250)\n",
      "(140, 250)\n"
     ]
    }
   ],
   "source": [
    "pca = PCA(n_components = 250)\n",
    "pca.fit(X_train_scaler)\n",
    "pca_train = pca.transform(X_train_scaler)\n",
    "pca_test = pca.transform(X_test_scaler)\n",
    "\n",
    "print(pca_train.shape)\n",
    "print(pca_test.shape)"
   ]
  },
  {
   "cell_type": "code",
   "execution_count": 39,
   "metadata": {},
   "outputs": [
    {
     "name": "stdout",
     "output_type": "stream",
     "text": [
      "C = 1e-08 : Accuracy = 0.47777777777777775\n",
      "C = 1e-07 : Accuracy = 0.5444444444444445\n",
      "C = 1e-06 : Accuracy = 0.6666666666666666\n",
      "C = 1e-05 : Accuracy = 0.7\n",
      "C = 0.0001 : Accuracy = 0.6370370370370371\n",
      "C = 0.001 : Accuracy = 0.6074074074074074\n",
      "C = 0.01 : Accuracy = 0.6111111111111112\n",
      "C = 0.1 : Accuracy = 0.6148148148148148\n",
      "C = 1 : Accuracy = 0.6148148148148148\n",
      "C = 10 : Accuracy = 0.6148148148148148\n",
      "C = 100 : Accuracy = 0.6148148148148148\n"
     ]
    }
   ],
   "source": [
    "kf = KFold(n_splits=5)\n",
    "accuracies = []\n",
    "x = []\n",
    "for i in range(-8,3):\n",
    "    clf = LinearSVC(C = 10**i, max_iter= 10000)\n",
    "    temp = []\n",
    "    for t, v in kf.split(pca_train):\n",
    "        X_t, X_valid = pca_train[t], pca_train[v]\n",
    "        y_t, y_valid = y_train[t], y_train[v]\n",
    "        clf.fit(X_t,y_t)\n",
    "        y_predict = clf.predict(X_valid)\n",
    "        temp.append(f1_score(y_valid, y_predict, average= 'micro'))\n",
    "\n",
    "    accuracies.append(np.mean(temp))\n",
    "    x.append(10**i)\n",
    "    print(f'C = {10**i} : Accuracy = {np.mean(temp)}')\n",
    "    "
   ]
  },
  {
   "cell_type": "code",
   "execution_count": 40,
   "metadata": {},
   "outputs": [
    {
     "name": "stdout",
     "output_type": "stream",
     "text": [
      "best C:  1e-05\n",
      "best F1_score:  0.7\n"
     ]
    },
    {
     "data": {
      "image/png": "[encoded data removed]",
      "text/plain": [
       "<Figure size 640x480 with 1 Axes>"
      ]
     },
     "metadata": {},
     "output_type": "display_data"
    }
   ],
   "source": [
    "best_C = x[np.argmax(accuracies)]\n",
    "print('best C: ', best_C)\n",
    "print('best F1_score: ', max(accuracies))\n",
    "\n",
    "plt.plot(x, accuracies)\n",
    "plt.xscale('log')\n",
    "plt.show()"
   ]
  },
  {
   "cell_type": "code",
   "execution_count": 41,
   "metadata": {},
   "outputs": [
    {
     "name": "stdout",
     "output_type": "stream",
     "text": [
      "Score = 0.8571428571428571\n",
      "Score = 0.8571428571428571\n",
      "              precision    recall  f1-score   support\n",
      "\n",
      "         0.0       0.98      0.77      0.86        70\n",
      "         1.0       0.87      0.96      0.92        28\n",
      "         2.0       0.83      0.96      0.89        25\n",
      "         3.0       0.60      0.88      0.71        17\n",
      "\n",
      "    accuracy                           0.86       140\n",
      "   macro avg       0.82      0.89      0.85       140\n",
      "weighted avg       0.89      0.86      0.86       140\n",
      "\n"
     ]
    },
    {
     "data": {
      "image/png": "[encoded data removed]",
      "text/plain": [
       "<Figure size 1000x700 with 2 Axes>"
      ]
     },
     "metadata": {},
     "output_type": "display_data"
    }
   ],
   "source": [
    "clf = LinearSVC(C = best_C, max_iter=10000)\n",
    "clf.fit(pca_train,y_train)\n",
    "y_pred = clf.predict(pca_test)\n",
    "\n",
    "cm = confusion_matrix(y_test,y_pred)\n",
    "\n",
    "plt.figure(figsize = (10,7))\n",
    "sn.heatmap(cm, annot=True)\n",
    "\n",
    "print(f\"Score = {clf.score(pca_test,y_test)}\")\n",
    "print(f\"Score = {f1_score(y_test,y_pred, average= 'micro')}\")\n",
    "print(classification_report(y_test, y_pred))"
   ]
  },
  {
   "cell_type": "code",
   "execution_count": 42,
   "metadata": {},
   "outputs": [
    {
     "name": "stdout",
     "output_type": "stream",
     "text": [
      "Best parameters : {'C': 100, 'gamma': 1e-07}\n",
      "Score = 0.8642857142857143\n",
      "              precision    recall  f1-score   support\n",
      "\n",
      "         0.0       0.83      0.93      0.88        70\n",
      "         1.0       0.92      0.82      0.87        28\n",
      "         2.0       0.91      0.84      0.87        25\n",
      "         3.0       0.86      0.71      0.77        17\n",
      "\n",
      "    accuracy                           0.86       140\n",
      "   macro avg       0.88      0.82      0.85       140\n",
      "weighted avg       0.87      0.86      0.86       140\n",
      "\n"
     ]
    },
    {
     "data": {
      "image/png": "[encoded data removed]",
      "text/plain": [
       "<Figure size 1000x700 with 2 Axes>"
      ]
     },
     "metadata": {},
     "output_type": "display_data"
    }
   ],
   "source": [
    "parameters = {'gamma' : [1/(150*pca_train.var()), 0.0000001, 0.000001, 0.00001],   'C':[0.01, 0.1, 1, 10, 100]}\n",
    "svc = svm.SVC()\n",
    "clf = GridSearchCV(svc, parameters)\n",
    "clf.fit(pca_train,y_train)\n",
    "\n",
    "y_pred = clf.predict(pca_test)\n",
    "cm = confusion_matrix(y_test,y_pred)\n",
    "plt.figure(figsize = (10,7))\n",
    "sn.heatmap(cm, annot=True)\n",
    "\n",
    "print('Best parameters :', clf.best_params_)\n",
    "\n",
    "print(f\"Score = {clf.score(pca_test,y_test)}\")\n",
    "\n",
    "print(classification_report(y_test, y_pred))"
   ]
  }
 ],
 "metadata": {
  "kernelspec": {
   "display_name": "Python 3",
   "language": "python",
   "name": "python3"
  },
  "language_info": {
   "codemirror_mode": {
    "name": "ipython",
    "version": 3
   },
   "file_extension": ".py",
   "mimetype": "text/x-python",
   "name": "python",
   "nbconvert_exporter": "python",
   "pygments_lexer": "ipython3",
   "version": "3.8.5"
  },
  "vscode": {
   "interpreter": {
    "hash": "e99d1ba09ae8d14127b33dec8a185812ad09983aec77b1796270109d4665ae14"
   }
  }
 },
 "nbformat": 4,
 "nbformat_minor": 4
}
